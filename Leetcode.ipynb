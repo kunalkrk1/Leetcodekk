{
 "cells": [
  {
   "cell_type": "code",
   "execution_count": null,
   "id": "27ee9089",
   "metadata": {},
   "outputs": [],
   "source": [
    "nums1 = [4,1,2]\n",
    "nums2 = [1,3,4,2]\n",
    "nums3=[]\n",
    "for i in range(len(nums1)):\n",
    "    for j in range(1,len(nums2)):\n",
    "        if nums1[i]==nums2[j-1]:\n",
    "            if nums2[j-1]<nums2[j]:\n",
    "                nums3.append(nums2[j])\n",
    "            else:\n",
    "                nums3.append(-1)\n",
    "if nums1[-1]==nums2[-1]:\n",
    "    nums3.append(-1)\n",
    "nums3"
   ]
  },
  {
   "cell_type": "code",
   "execution_count": null,
   "id": "0287f442",
   "metadata": {},
   "outputs": [],
   "source": [
    "nums1 = [4,3,2]\n",
    "nums2 = [1,3,4,2]\n",
    "output = []\n",
    "for val in nums1:\n",
    "    ind = nums2.index(val)\n",
    "    check = False\n",
    "    for i in range(ind+1, len(nums2)):\n",
    "        if nums2[i] > val:\n",
    "            check = True\n",
    "            output.append(nums2[i])\n",
    "            break\n",
    "    if not check:\n",
    "        output.append(-1)\n",
    "output"
   ]
  },
  {
   "cell_type": "code",
   "execution_count": null,
   "id": "7933c2dc",
   "metadata": {},
   "outputs": [],
   "source": [
    "dct = {}\n",
    "stack = []\n",
    "stack.append(nums2[0])\n",
    "\n",
    "for i in range(1, len(nums2)):\n",
    "    while stack and nums2[i] > stack[-1]:\n",
    "        dct[stack[-1]] = nums2[i]\n",
    "        stack.pop()\n",
    "    stack.append(nums2[i])\n",
    "\n",
    "for element in stack:\n",
    "    dct[element] = -1\n",
    "\n",
    "result = []\n",
    "for val in nums1:\n",
    "    gt = dct[val]\n",
    "    result.append(gt)\n",
    "result"
   ]
  },
  {
   "cell_type": "code",
   "execution_count": null,
   "id": "d9804e86",
   "metadata": {},
   "outputs": [],
   "source": [
    "nums = [1,1]\n",
    "nums1=[]\n",
    "for i in range(1,len(nums)+1):\n",
    "    if i not in nums:\n",
    "        nums1.append(i)\n",
    "nums1\n"
   ]
  },
  {
   "cell_type": "code",
   "execution_count": null,
   "id": "d920b5c2",
   "metadata": {},
   "outputs": [],
   "source": [
    "nums = [1,1]\n",
    "nums1={}\n",
    "j=0\n",
    "for i in range(1,len(nums)+1):\n",
    "    if i not in nums:\n",
    "        nums1[j]=i\n",
    "        j+=1\n",
    "nums1.values()"
   ]
  },
  {
   "cell_type": "markdown",
   "id": "3afddb17",
   "metadata": {},
   "source": [
    "## Find all numbers that dissappeared in an array"
   ]
  },
  {
   "cell_type": "code",
   "execution_count": null,
   "id": "3f5a1539",
   "metadata": {},
   "outputs": [],
   "source": [
    "nums = [4,3,2,7,8,2,3,1]\n",
    "visit = [False] * (len(nums))\n",
    "output = []\n",
    "for num in nums:\n",
    "    if not visit[num-1]:\n",
    "        visit[num-1] = True\n",
    "\n",
    "for i in range(len(visit)):\n",
    "    if not visit[i]:\n",
    "        output.append(i+1)\n",
    "output             # TC: O(max(len(nums), max(nums)))"
   ]
  },
  {
   "cell_type": "code",
   "execution_count": null,
   "id": "d4a96b9d",
   "metadata": {},
   "outputs": [],
   "source": [
    "for i in range(1, len(nums) + 1):\n",
    "    check=False\n",
    "    for j in nums:\n",
    "        if i==j:\n",
    "            check = True\n",
    "            break\n",
    "    if not check:\n",
    "        nums1.append(i)"
   ]
  },
  {
   "cell_type": "code",
   "execution_count": null,
   "id": "d8cdcd98",
   "metadata": {},
   "outputs": [],
   "source": [
    "s = \"abBAcC\"\n",
    "s1 =\"aAcC\"\n",
    "s2=\"\"\n",
    "for i in range(len(s)):\n",
    "    if s[i].upper()"
   ]
  },
  {
   "cell_type": "markdown",
   "id": "8ab92923",
   "metadata": {},
   "source": [
    "## Make the string great"
   ]
  },
  {
   "cell_type": "code",
   "execution_count": null,
   "id": "a9992994",
   "metadata": {},
   "outputs": [],
   "source": [
    "#s = \"abBAcC\"\n",
    "s=\"s\"\n",
    "# s1=\"leetcode\"\n",
    "stack = []    # [l, e, e, t, c, o]\n",
    "i = 0\n",
    "while i < len(s):\n",
    "    if stack and stack[-1] != s[i] and stack[-1].lower() == s[i].lower():\n",
    "        stack.pop()\n",
    "    else:\n",
    "        stack.append(s[i])\n",
    "    i += 1\n",
    "\"\".join(stack)"
   ]
  },
  {
   "cell_type": "code",
   "execution_count": null,
   "id": "e3be0de6",
   "metadata": {},
   "outputs": [],
   "source": [
    "10 %2"
   ]
  },
  {
   "cell_type": "markdown",
   "id": "6f065f6f",
   "metadata": {},
   "source": [
    "## Ugly Number"
   ]
  },
  {
   "cell_type": "code",
   "execution_count": null,
   "id": "e4ea9cf4",
   "metadata": {},
   "outputs": [],
   "source": [
    "def uglyNumber(num: int) -> bool:\n",
    "    if num <= 0:\n",
    "        return False\n",
    "    l1=[2,3,5]\n",
    "    for div in l1:\n",
    "        while num % div == 0:\n",
    "            num /= div       # n = n/div\n",
    "    return num==1\n"
   ]
  },
  {
   "cell_type": "code",
   "execution_count": null,
   "id": "634816c1",
   "metadata": {},
   "outputs": [],
   "source": [
    "uglyNumber(14)"
   ]
  },
  {
   "cell_type": "markdown",
   "id": "2e59f96c",
   "metadata": {},
   "source": [
    "## Longest Palindrome"
   ]
  },
  {
   "cell_type": "code",
   "execution_count": null,
   "id": "2eebd4a5",
   "metadata": {},
   "outputs": [],
   "source": [
    "def longestPalindrome(s: str) -> int:\n",
    "    dct = {}\n",
    "    for i in s:\n",
    "        if i in dct: dct[i] += 1\n",
    "        else: dct[i] = 1\n",
    "    \n",
    "    count, odd = 0, 0\n",
    "    for val in dct.values():\n",
    "        if val%2==0:\n",
    "            count += val\n",
    "        else:\n",
    "            odd = 1\n",
    "            if val > 2:\n",
    "                count += val - 1\n",
    "                \n",
    "    return count + odd"
   ]
  },
  {
   "cell_type": "code",
   "execution_count": null,
   "id": "51350e9b",
   "metadata": {},
   "outputs": [],
   "source": [
    "s = \"aaabccccddbb\"\n",
    "longestPalindrome(s)"
   ]
  },
  {
   "cell_type": "markdown",
   "id": "dde51c50",
   "metadata": {},
   "source": [
    "## Two Sum"
   ]
  },
  {
   "cell_type": "code",
   "execution_count": null,
   "id": "283af6e8",
   "metadata": {},
   "outputs": [],
   "source": [
    "def twoSum(nums, target: int) -> int:\n",
    "    for i in range(len(nums)):\n",
    "        for j in range(1,len(nums)):\n",
    "            if nums[i]+ nums[j]==target and i!=j:\n",
    "                return (i,j)"
   ]
  },
  {
   "cell_type": "code",
   "execution_count": null,
   "id": "c37c9b03",
   "metadata": {},
   "outputs": [],
   "source": [
    "nums= [2,7,11,15]\n",
    "target=18\n",
    "twoSum(nums, target)"
   ]
  },
  {
   "cell_type": "code",
   "execution_count": null,
   "id": "1b2fff7a",
   "metadata": {},
   "outputs": [],
   "source": [
    "nums= [3,2,4]\n",
    "target=6"
   ]
  },
  {
   "cell_type": "code",
   "execution_count": null,
   "id": "c292c910",
   "metadata": {},
   "outputs": [],
   "source": [
    "# Method 1\n",
    "def twoSum(nums: list, target: int) -> list:\n",
    "    ln = len(nums)\n",
    "    for i in range(ln-1):\n",
    "        for j in range(i+1, ln):\n",
    "            sm = nums[i] + nums[j]\n",
    "            if sm==target:\n",
    "                return [i, j]\n",
    "            "
   ]
  },
  {
   "cell_type": "code",
   "execution_count": null,
   "id": "6a3d4529",
   "metadata": {},
   "outputs": [],
   "source": [
    "# Method 2\n",
    "def twoSum(nums: list, target: int) -> list:\n",
    "    if not nums:\n",
    "        return []\n",
    "    x = [(nums[i], i) for i in range(len(nums))]\n",
    "    x.sort(key=lambda k: k[0])\n",
    "    i, j = 0, len(nums) - 1\n",
    "    while i < j:\n",
    "        sm = x[i][0] + nums[j][0]\n",
    "        if sm==target:\n",
    "            return [i, j]\n",
    "        elif sm > target:\n",
    "            j -= 1\n",
    "        else:\n",
    "            i += 1"
   ]
  },
  {
   "cell_type": "code",
   "execution_count": null,
   "id": "eb838155",
   "metadata": {},
   "outputs": [],
   "source": [
    "def twoSum(nums: list, target: int) -> list:\n",
    "    "
   ]
  },
  {
   "cell_type": "code",
   "execution_count": null,
   "id": "b67a0b60",
   "metadata": {},
   "outputs": [],
   "source": [
    "twoSum(nums, target)"
   ]
  },
  {
   "cell_type": "markdown",
   "id": "b744800e",
   "metadata": {},
   "source": [
    "## Word Pattern"
   ]
  },
  {
   "cell_type": "code",
   "execution_count": null,
   "id": "485eafb4",
   "metadata": {},
   "outputs": [],
   "source": [
    "def wordPattern(pattern: str, s: str) -> bool:\n",
    "    def helper(val1, val2, dct):\n",
    "        if val2 in dct:\n",
    "            if dct[val2] != val1: return False\n",
    "        else:\n",
    "            dct[val2] = val1\n",
    "        return True\n",
    "    dct1, dct2 = {}, {}\n",
    "    lst_s = s.split()         # lst_s, pattern\n",
    "    if len(lst_s) != len(pattern):\n",
    "        return False\n",
    "    \n",
    "    for i in range(len(lst_s)):\n",
    "        val1, val2 = lst_s[i], pattern[i]\n",
    "        rvalue1 = helper(val1, val2, dct1)\n",
    "        rvalue2 = helper(val2, val1, dct2)\n",
    "        if not rvalue1 or not rvalue2:\n",
    "            return False\n",
    "    return True"
   ]
  },
  {
   "cell_type": "code",
   "execution_count": null,
   "id": "8a7e812d",
   "metadata": {},
   "outputs": [],
   "source": [
    "pattern = \"abba\"\n",
    "s = \"dog cat cat dog\""
   ]
  },
  {
   "cell_type": "code",
   "execution_count": null,
   "id": "1faa07c4",
   "metadata": {},
   "outputs": [],
   "source": [
    "wordPattern(pattern, s)"
   ]
  },
  {
   "cell_type": "code",
   "execution_count": null,
   "id": "aa87c2cf",
   "metadata": {},
   "outputs": [],
   "source": [
    "pattern = \"abba\"\n",
    "s = \"dog cat cat fish\""
   ]
  },
  {
   "cell_type": "markdown",
   "id": "be4e25c8",
   "metadata": {},
   "source": [
    "## Perfect Number"
   ]
  },
  {
   "cell_type": "code",
   "execution_count": null,
   "id": "0d589663",
   "metadata": {},
   "outputs": [],
   "source": [
    "def checkPerfectNumber(num: int) -> bool:\n",
    "    val = 1\n",
    "    for i in range(2, num//2+1):\n",
    "        if num%i==0:\n",
    "            val += i\n",
    "    return val==num\n",
    "    "
   ]
  },
  {
   "cell_type": "code",
   "execution_count": null,
   "id": "2a11acea",
   "metadata": {},
   "outputs": [],
   "source": [
    "checkPerfectNumber(7)\n"
   ]
  },
  {
   "cell_type": "code",
   "execution_count": null,
   "id": "da759f91",
   "metadata": {},
   "outputs": [],
   "source": [
    "        if num == 1:\n",
    "            return False\n",
    "        res = 1\n",
    "        for i in range(2,int(num**0.5)+1):\n",
    "            if num%i == 0:\n",
    "                res += i + num//i\n",
    "        return res == num"
   ]
  },
  {
   "cell_type": "markdown",
   "id": "7aef0d30",
   "metadata": {},
   "source": [
    "## Reverse words in string"
   ]
  },
  {
   "cell_type": "code",
   "execution_count": null,
   "id": "b75e29e8",
   "metadata": {},
   "outputs": [],
   "source": [
    "s = \"Let's take LeetCode contest\""
   ]
  },
  {
   "cell_type": "code",
   "execution_count": null,
   "id": "009e0969",
   "metadata": {},
   "outputs": [],
   "source": [
    "a = s.split(\" \")"
   ]
  },
  {
   "cell_type": "code",
   "execution_count": null,
   "id": "91fb888c",
   "metadata": {},
   "outputs": [],
   "source": [
    "a1=[]\n",
    "for i in a:\n",
    "    i = i[::-1]\n",
    "    a1.append(i) \n",
    "return ' '.join(a1)   "
   ]
  },
  {
   "cell_type": "markdown",
   "id": "a01a8b87",
   "metadata": {},
   "source": [
    "## Detect Capital"
   ]
  },
  {
   "cell_type": "code",
   "execution_count": null,
   "id": "87f50b7b",
   "metadata": {},
   "outputs": [],
   "source": [
    "w = \"rsdfsg\""
   ]
  },
  {
   "cell_type": "code",
   "execution_count": null,
   "id": "5df7e030",
   "metadata": {},
   "outputs": [],
   "source": [
    "w[0]"
   ]
  },
  {
   "cell_type": "code",
   "execution_count": null,
   "id": "6e5176fc",
   "metadata": {},
   "outputs": [],
   "source": [
    "ord(w[0])"
   ]
  },
  {
   "cell_type": "code",
   "execution_count": null,
   "id": "04ee9665",
   "metadata": {},
   "outputs": [],
   "source": [
    "for i in range(1,len(w)):\n",
    "    check= False\n",
    "    if ord(w[0]) in range(65,91):\n",
    "        check=True\n",
    "    elif ord(w[i]) in range(65,91):\n",
    "        check=True\n",
    "       \n",
    "    elif ord(w[i]) in range(97,122):\n",
    "        check=True\n",
    "      \n",
    "print(check)"
   ]
  },
  {
   "cell_type": "code",
   "execution_count": null,
   "id": "c7a85ec1",
   "metadata": {},
   "outputs": [],
   "source": [
    "'G'=='g'"
   ]
  },
  {
   "cell_type": "code",
   "execution_count": null,
   "id": "1a751c8b",
   "metadata": {},
   "outputs": [],
   "source": [
    "count_capital = 0\n",
    "for ch in w:\n",
    "    if ch != ch.lower():\n",
    "        count_capital += 1\n",
    "\n",
    "if (count_capital == 1 and w[0] == w[0].upper()) or count_capital in [len(w), 0]:\n",
    "    print(True)\n",
    "else:\n",
    "    print(False)"
   ]
  },
  {
   "cell_type": "markdown",
   "id": "b43516e3",
   "metadata": {},
   "source": [
    "## Student Attendance"
   ]
  },
  {
   "cell_type": "code",
   "execution_count": null,
   "id": "73829b18",
   "metadata": {},
   "outputs": [],
   "source": [
    "s = \"PPALLP\"\n",
    "d={}\n",
    "for i in s:\n",
    "    if i in d:\n",
    "        d[i]+=1\n",
    "    else:\n",
    "        d[i]=1\n",
    "d['A']\n",
    "    \n",
    "    "
   ]
  },
  {
   "cell_type": "code",
   "execution_count": null,
   "id": "035bc2ac",
   "metadata": {},
   "outputs": [],
   "source": [
    "1%10"
   ]
  },
  {
   "cell_type": "markdown",
   "id": "9f89b072",
   "metadata": {},
   "source": [
    "## Self dividing number"
   ]
  },
  {
   "cell_type": "code",
   "execution_count": null,
   "id": "49e235a7",
   "metadata": {},
   "outputs": [],
   "source": [
    "left = 1\n",
    "right = 22\n",
    "b1=0\n",
    "b2=[]\n",
    "for num in range(left, right+1):\n",
    "    temp = num\n",
    "    while num:\n",
    "        b1 = num%10\n",
    "        if b1==0 or temp%b1 != 0: break\n",
    "        num //= 10\n",
    "    if num==0:\n",
    "        b2.append(temp)"
   ]
  },
  {
   "cell_type": "code",
   "execution_count": null,
   "id": "b2b6bdec",
   "metadata": {},
   "outputs": [],
   "source": [
    "b2"
   ]
  },
  {
   "cell_type": "markdown",
   "id": "f3f7fddb",
   "metadata": {},
   "source": [
    "## Product is maximum"
   ]
  },
  {
   "cell_type": "code",
   "execution_count": null,
   "id": "96b26456",
   "metadata": {},
   "outputs": [],
   "source": [
    "nums = [-100,-98,-1,2,3,4]\n",
    "nums.sort()\n",
    "nums = nums[-3:]\n",
    "value = 1\n",
    "for x in nums:\n",
    "\n",
    "    value = value * x\n",
    "print (value)"
   ]
  },
  {
   "cell_type": "code",
   "execution_count": null,
   "id": "f1d429df",
   "metadata": {},
   "outputs": [],
   "source": [
    "def maximumProduct(nums: list[int]) -> int:\n",
    "    nums.sort()\n",
    "    return max(nums[0]*nums[1]*nums[2], nums[-3]*nums[-2]*nums[-1],nums[0]*nums[1]*nums[-1])"
   ]
  },
  {
   "cell_type": "code",
   "execution_count": null,
   "id": "97758eca",
   "metadata": {},
   "outputs": [],
   "source": [
    "nums = [1,2,3,4]\n",
    "maximumProduct(nums)"
   ]
  },
  {
   "cell_type": "code",
   "execution_count": null,
   "id": "5c44cee3",
   "metadata": {},
   "outputs": [],
   "source": [
    "maxProduct = 0\n",
    "for i in range(len(nums)-2):\n",
    "    for j in range(i+1, len(nums)-1):\n",
    "        for k in range(j+1, len(nums)):\n",
    "            product = nums[i]*nums[j]*nums[k]\n",
    "            maxProduct = max(maxProduct, product)\n",
    "print(maxProduct)"
   ]
  },
  {
   "cell_type": "code",
   "execution_count": null,
   "id": "79a73946",
   "metadata": {},
   "outputs": [],
   "source": [
    "num = 36"
   ]
  },
  {
   "cell_type": "code",
   "execution_count": null,
   "id": "ffdc6d44",
   "metadata": {},
   "outputs": [],
   "source": [
    "num2=[]\n",
    "count=0\n",
    "for i in range(1, num//2 +1):\n",
    "    if num%i==0:\n",
    "        num2.append(i)\n",
    "        count+=1\n",
    "count"
   ]
  },
  {
   "cell_type": "markdown",
   "id": "ccc48096",
   "metadata": {},
   "source": [
    "1    24\n",
    "2    12\n",
    "3    8\n",
    "4    6\n",
    "6    4\n",
    "8    3\n",
    "12   2\n",
    "24   1"
   ]
  },
  {
   "cell_type": "markdown",
   "id": "aef1643d",
   "metadata": {},
   "source": [
    "1   36\n",
    "2   18\n",
    "3   12\n",
    "4   9\n",
    "6   6\n",
    "9   4"
   ]
  },
  {
   "cell_type": "code",
   "execution_count": null,
   "id": "e7abcf57",
   "metadata": {},
   "outputs": [],
   "source": [
    "(10**9)**(1/2)//1000"
   ]
  },
  {
   "cell_type": "code",
   "execution_count": null,
   "id": "941ef4bf",
   "metadata": {},
   "outputs": [],
   "source": [
    "# i*j = N\n",
    "# i <=  N/j\n",
    "\n",
    "# i*i = N\n",
    "# i <= N**(1/2)\n",
    "def countFactor(num_1):\n",
    "    count = 0\n",
    "    for i in range(1, int(num_1**(1/2))+1):\n",
    "        if num_1%i == 0:\n",
    "            count += 2\n",
    "            if num_1//i == i:\n",
    "                count -= 1\n",
    "    return count"
   ]
  },
  {
   "cell_type": "code",
   "execution_count": null,
   "id": "fbf5219b",
   "metadata": {},
   "outputs": [],
   "source": [
    "countFactor(24)"
   ]
  },
  {
   "cell_type": "code",
   "execution_count": null,
   "id": "3caae514",
   "metadata": {},
   "outputs": [],
   "source": [
    "def isPrime(num):\n",
    "    return False if countFactor(num) > 2 else True"
   ]
  },
  {
   "cell_type": "code",
   "execution_count": null,
   "id": "f4ae074d",
   "metadata": {},
   "outputs": [],
   "source": [
    "isPrime(9)"
   ]
  },
  {
   "cell_type": "code",
   "execution_count": null,
   "id": "3a622983",
   "metadata": {},
   "outputs": [],
   "source": [
    "for i in range(1, num):\n",
    "    if i*i == num:\n",
    "        print(i)"
   ]
  },
  {
   "cell_type": "code",
   "execution_count": null,
   "id": "c47b6d19",
   "metadata": {},
   "outputs": [],
   "source": [
    "27\n",
    "\n",
    "25   36\n",
    "mid = left + right\n",
    "mid**2\n",
    "\n",
    "1 2 3 4 5 6 7 .. 9 .... 18 .. 36"
   ]
  },
  {
   "cell_type": "markdown",
   "id": "60a33dc9",
   "metadata": {},
   "source": [
    "## Reverse String 2"
   ]
  },
  {
   "cell_type": "code",
   "execution_count": null,
   "id": "4d15b096",
   "metadata": {},
   "outputs": [],
   "source": [
    "s = \"abcdefg\"\n",
    "k=2\n",
    "s2=\"\"\n",
    "s1=s[k-1::-1]\n",
    "s2= \"\".join(s1)\n",
    "s2.join(s[k:])\n"
   ]
  },
  {
   "cell_type": "code",
   "execution_count": null,
   "id": "73721adb",
   "metadata": {},
   "outputs": [],
   "source": [
    "s = \"abcdefgh\"\n",
    "k=3\n",
    "\n",
    "def reverseStr(s: str, k: int) -> str:\n",
    "    ln = len(s)\n",
    "    i = 0\n",
    "    sub_ln = 2*k\n",
    "    while i + 2*k < ln:\n",
    "        sub_s = s[i:i+k]\n",
    "        s = s[:i] + sub_s[::-1] + s[i+k:]\n",
    "        i = i + 2*k\n",
    "    if i + k < ln:\n",
    "        s = s[:i] + s[i:i+k][::-1] + s[i+k:]\n",
    "    else:\n",
    "        s = s[:i] + s[i:][::-1]\n",
    "reverseStr(s, k)"
   ]
  },
  {
   "cell_type": "markdown",
   "id": "471452c3",
   "metadata": {},
   "source": [
    "## Degree of an Array"
   ]
  },
  {
   "cell_type": "code",
   "execution_count": null,
   "id": "07a58959",
   "metadata": {},
   "outputs": [],
   "source": [
    "def findShortestSubArray(nums) -> int:\n",
    "    d={}\n",
    "    for i in range(len(nums)):\n",
    "        if nums[i] not in d:\n",
    "            d[nums[i]] = [1, i, i]     # [count, start, end]\n",
    "        else:\n",
    "            d[nums[i]][0] += 1\n",
    "            d[nums[i]][2] = i\n",
    "    \n",
    "    maxvalue = max([count[0] for count in d.values()])\n",
    "    minLen = float(\"inf\")\n",
    "    for key in d:\n",
    "        if d[key][0] == maxvalue:\n",
    "            minLen = min(d[key][2] - d[key][1] + 1, minLen)\n",
    "    \n",
    "    return minLen\n",
    "findShortestSubArray(nums = [1,2,2,3,1,4,2])"
   ]
  },
  {
   "cell_type": "markdown",
   "id": "5cbbcc2f",
   "metadata": {},
   "source": [
    "### Question. Find perfact number\n",
    "\n",
    "num = 6\n",
    "sum(1, 2, 3) = 6\n",
    "\n",
    "*Condition: sum(factors of a number) = number itself*"
   ]
  },
  {
   "cell_type": "code",
   "execution_count": null,
   "id": "f1496b2a",
   "metadata": {},
   "outputs": [],
   "source": [
    "d=[]\n",
    "num=6\n",
    "sum=0\n",
    "for i in range(1, num//2 +1):\n",
    "    if num%i==0:\n",
    "        d.append(i)\n",
    "        sum+=i\n",
    "sum\n",
    "        "
   ]
  },
  {
   "cell_type": "markdown",
   "id": "d761dba3",
   "metadata": {},
   "source": [
    "## Prefix Sum"
   ]
  },
  {
   "cell_type": "code",
   "execution_count": null,
   "id": "2ea0ea0f",
   "metadata": {},
   "outputs": [],
   "source": [
    "x = [1, 2, 3, 4, 5, 6, 7]      # n\n",
    "\n",
    "# prefixSum = [1, 3, 6, 10, 15, 21, 28]\n",
    "\n",
    "# prefixSum[0] = x[0]\n",
    "# prefixSum[1] = x[0] + x[1]\n",
    "# prefixSum[2] = x[0] + x[1] + x[2]\n",
    "\n",
    "# Formula for prefix sum.\n",
    "# prefixSum[i] = prefixSum[i-1] + x[i]\n",
    "\n",
    "prefixSum = [0]*len(x)\n",
    "prefixSum[0] = x[0]\n",
    "\n",
    "for i in range(1, len(x)):\n",
    "    prefixSum[i] = prefixSum[i-1] + x[i]\n",
    "    \n",
    "prefixSum"
   ]
  },
  {
   "cell_type": "code",
   "execution_count": null,
   "id": "c0d2f6cf",
   "metadata": {},
   "outputs": [],
   "source": [
    "queries = [[1, 4], [2, 5], [2, 4], [3, 6]]  # k"
   ]
  },
  {
   "cell_type": "code",
   "execution_count": null,
   "id": "3847ac90",
   "metadata": {},
   "outputs": [],
   "source": [
    "# Method 1      ->  TC: O(kn)\n",
    "output = []\n",
    "for start, end in queries:\n",
    "    ans = sum(x[start: end + 1])\n",
    "    output.append(ans)\n",
    "\n",
    "output"
   ]
  },
  {
   "cell_type": "code",
   "execution_count": null,
   "id": "984b6398",
   "metadata": {},
   "outputs": [],
   "source": [
    "# Method 2     -> TC: O(n + k)\n",
    "output = []\n",
    "for start, end in queries:      # O(k)\n",
    "    if start == 0:\n",
    "        ans = prefixSum[end]\n",
    "    else:\n",
    "        ans = prefixSum[end] - prefixSum[start-1]\n",
    "    output.append(ans)\n",
    "output"
   ]
  },
  {
   "cell_type": "code",
   "execution_count": null,
   "id": "0abac12d",
   "metadata": {},
   "outputs": [],
   "source": [
    "output1=[]\n",
    "for start,end in queries:\n",
    "    count=0\n",
    "    for i in x[start:end+1]:\n",
    "    \n",
    "        if i %2==0:\n",
    "            count+=1\n",
    "    output1.append(count)\n",
    "            \n",
    "output1"
   ]
  },
  {
   "cell_type": "code",
   "execution_count": null,
   "id": "f7317f4f",
   "metadata": {},
   "outputs": [],
   "source": [
    "prefixEvenNo = [0]*len(x)\n",
    "prefixEvenNo[0] = int(x[0]%2==0)\n",
    "for i in range(1, len(x)):\n",
    "    if x[i]%2 == 0:\n",
    "        prefixEvenNo[i] = prefixEvenNo[i-1] + 1\n",
    "    else:\n",
    "        prefixEvenNo[i] = prefixEvenNo[i-1]\n",
    "\n",
    "prefixEvenNo"
   ]
  },
  {
   "cell_type": "code",
   "execution_count": null,
   "id": "d824bed9",
   "metadata": {},
   "outputs": [],
   "source": [
    "output = []\n",
    "for start, end in queries:    # O(n + k)\n",
    "    if start==0:\n",
    "        ans = prefixEvenNo[end]\n",
    "    else:\n",
    "        ans = prefixEvenNo[end] - prefixEvenNo[start-1]\n",
    "    output.append(ans)\n",
    "output"
   ]
  },
  {
   "cell_type": "markdown",
   "id": "91d049bc",
   "metadata": {},
   "source": [
    "## Delete Characters"
   ]
  },
  {
   "cell_type": "code",
   "execution_count": null,
   "id": "65b61946",
   "metadata": {},
   "outputs": [],
   "source": [
    "s = \"leeetcode\"\n",
    "ch = s[0]\n",
    "ch_count = 0\n",
    "output = \"\"\n",
    "for i in s:\n",
    "    if ch == i:\n",
    "        ch_count += 1\n",
    "    else:\n",
    "        output += ch*ch_count if ch_count < 3 else ch*2\n",
    "        ch = i\n",
    "        ch_count = 1\n",
    "output += ch*ch_count if ch_count < 3 else ch*2\n",
    "# count_chr\n",
    "\n",
    "\n",
    "output"
   ]
  },
  {
   "cell_type": "markdown",
   "id": "d704db8d",
   "metadata": {},
   "source": [
    "## Fibonacci"
   ]
  },
  {
   "cell_type": "code",
   "execution_count": null,
   "id": "2c4824f8",
   "metadata": {},
   "outputs": [],
   "source": [
    "def fib(n:int)-> int:\n",
    "    f0=0\n",
    "    f1=1\n",
    "    "
   ]
  },
  {
   "cell_type": "code",
   "execution_count": 2,
   "id": "4ebe5f5e",
   "metadata": {},
   "outputs": [],
   "source": [
    "A=[3,4,5,2,1]\n"
   ]
  },
  {
   "cell_type": "code",
   "execution_count": null,
   "id": "ea163b70",
   "metadata": {},
   "outputs": [],
   "source": [
    "\n",
    "max=-1\n",
    "min=100000\n",
    "for i in range(len(A)):\n",
    "    if A[i]>max:\n",
    "        max=A[i]\n",
    "for i in range(len(A)):\n",
    "    if A[i]<min:\n",
    "        min= A[i]\n",
    "        \n",
    "output = max-min\n",
    "output"
   ]
  },
  {
   "cell_type": "code",
   "execution_count": 3,
   "id": "091d657c",
   "metadata": {},
   "outputs": [
    {
     "data": {
      "text/plain": [
       "2"
      ]
     },
     "execution_count": 3,
     "metadata": {},
     "output_type": "execute_result"
    }
   ],
   "source": [
    "max_diff = -1\n",
    "for i in range(len(A)):\n",
    "    for j in range(i+1,len(A)-1):\n",
    "        if A[i] < A[j]:\n",
    "            max_diff = max(max_diff, A[j] - A[i])\n",
    "\n",
    "max_diff"
   ]
  },
  {
   "cell_type": "code",
   "execution_count": null,
   "id": "cd2c5e95",
   "metadata": {},
   "outputs": [],
   "source": [
    "2 + 5"
   ]
  },
  {
   "cell_type": "code",
   "execution_count": 4,
   "id": "558d65e8",
   "metadata": {},
   "outputs": [
    {
     "data": {
      "text/plain": [
       "2"
      ]
     },
     "execution_count": 4,
     "metadata": {},
     "output_type": "execute_result"
    }
   ],
   "source": [
    "buy_price = A[0]\n",
    "profit = -1\n",
    "for i in range(1, len(A)):\n",
    "    if buy_price > A[i]:\n",
    "        buy_price = A[i]\n",
    "    else:\n",
    "        profit = max(profit, A[i] - buy_price)\n",
    "profit"
   ]
  },
  {
   "cell_type": "markdown",
   "id": "4785d930",
   "metadata": {},
   "source": [
    "## Transpose of Matrix"
   ]
  },
  {
   "cell_type": "code",
   "execution_count": 2,
   "id": "7af48e21",
   "metadata": {},
   "outputs": [],
   "source": [
    "matrix = [\n",
    "    [1,2,3],\n",
    "    [4,5,6],\n",
    "    [7,8,9]\n",
    "]"
   ]
  },
  {
   "cell_type": "code",
   "execution_count": 19,
   "id": "f960e392",
   "metadata": {},
   "outputs": [
    {
     "data": {
      "text/plain": [
       "[[1, 4, 7], [2, 5, 8], [3, 6, 9]]"
      ]
     },
     "execution_count": 19,
     "metadata": {},
     "output_type": "execute_result"
    }
   ],
   "source": [
    "for i in range(len(matrix)):\n",
    "    for j in range(i+1,len(matrix)):\n",
    "        matrix[i][j], matrix[j][i] = matrix[j][i], matrix[i][j]\n",
    "\n",
    "matrix"
   ]
  },
  {
   "cell_type": "code",
   "execution_count": 3,
   "id": "bf47d505",
   "metadata": {},
   "outputs": [
    {
     "data": {
      "text/plain": [
       "[1, 2, 3]"
      ]
     },
     "execution_count": 3,
     "metadata": {},
     "output_type": "execute_result"
    }
   ],
   "source": [
    "[\n",
    "    [1, 4, 7], \n",
    "    [2, 5, 8], \n",
    "    [3, 6, 9]\n",
    "]"
   ]
  },
  {
   "cell_type": "code",
   "execution_count": 8,
   "id": "9c1ce8ef",
   "metadata": {},
   "outputs": [],
   "source": [
    "x, y = 2, 3\n"
   ]
  },
  {
   "cell_type": "code",
   "execution_count": 9,
   "id": "103f38b8",
   "metadata": {},
   "outputs": [],
   "source": [
    "x, y = y, x"
   ]
  },
  {
   "cell_type": "code",
   "execution_count": 10,
   "id": "5269bb46",
   "metadata": {},
   "outputs": [
    {
     "data": {
      "text/plain": [
       "3"
      ]
     },
     "execution_count": 10,
     "metadata": {},
     "output_type": "execute_result"
    }
   ],
   "source": [
    "x"
   ]
  },
  {
   "cell_type": "code",
   "execution_count": 16,
   "id": "89665e40",
   "metadata": {},
   "outputs": [
    {
     "data": {
      "text/plain": [
       "8"
      ]
     },
     "execution_count": 16,
     "metadata": {},
     "output_type": "execute_result"
    }
   ],
   "source": [
    "matrix[1][1]"
   ]
  },
  {
   "cell_type": "code",
   "execution_count": 3,
   "id": "029b9312",
   "metadata": {},
   "outputs": [
    {
     "data": {
      "text/plain": [
       "[[1, 2, 3], [4, 5, 6], [7, 8, 9]]"
      ]
     },
     "execution_count": 3,
     "metadata": {},
     "output_type": "execute_result"
    }
   ],
   "source": [
    "# matrix[i][j], matrix[j][i]\n",
    "n, m = len(matrix), len(matrix[0])\n",
    "A = [[0]*n for _ in range(m)]\n",
    "for i in range(n):\n",
    "    for j in range(m):\n",
    "        A[j][i] = matrix[i][j]\n",
    "\n",
    "matrix"
   ]
  },
  {
   "cell_type": "code",
   "execution_count": 5,
   "id": "d2cd27e2",
   "metadata": {},
   "outputs": [
    {
     "data": {
      "text/plain": [
       "3"
      ]
     },
     "execution_count": 5,
     "metadata": {},
     "output_type": "execute_result"
    }
   ],
   "source": [
    "m"
   ]
  },
  {
   "cell_type": "markdown",
   "id": "940c6bc2",
   "metadata": {},
   "source": [
    "## Diagonal Sum"
   ]
  },
  {
   "cell_type": "code",
   "execution_count": 9,
   "id": "2afda640",
   "metadata": {},
   "outputs": [],
   "source": [
    "A = [[1,2,3],\n",
    "    [4,5,6],\n",
    "    [7,8,9]]"
   ]
  },
  {
   "cell_type": "code",
   "execution_count": 14,
   "id": "b606ef55",
   "metadata": {},
   "outputs": [
    {
     "data": {
      "text/plain": [
       "(25, 3)"
      ]
     },
     "execution_count": 14,
     "metadata": {},
     "output_type": "execute_result"
    }
   ],
   "source": [
    "n, m = len(A), len(A[0])\n",
    "sum=0\n",
    "#A = [[0]*n for _ in range(m)]\n",
    "for i in range(len(A)):\n",
    "    sum+=A[i][i]\n",
    "i=0\n",
    "j=m-1\n",
    "while i<n and j>=0:\n",
    "    sum+=A[i][j] if i!=j else 0 \n",
    "    i+=1\n",
    "    j-=1\n",
    "sum,n"
   ]
  },
  {
   "cell_type": "code",
   "execution_count": null,
   "id": "e12f2d17",
   "metadata": {},
   "outputs": [],
   "source": [
    "def get_diagonal_sum(A):\n",
    "    n = len(A)\n",
    "    sum=0\n",
    "    for i in range(n):\n",
    "        sum+=A[i][i]\n",
    "    i=0\n",
    "    j=n-1\n",
    "    while i<n and j>=0:\n",
    "        sum+=A[i][j] if i!=j else 0 \n",
    "        i+=1\n",
    "        j-=1\n",
    "    return sum"
   ]
  },
  {
   "cell_type": "code",
   "execution_count": 9,
   "id": "f89ecf40",
   "metadata": {},
   "outputs": [],
   "source": [
    "n=124\n",
    "def check(n):\n",
    "    for a in range(1,n):\n",
    "        b=n-a\n",
    "        if check(a) and check(b):\n",
    "            while n>0:\n",
    "                u=n%10\n",
    "                \n",
    "            return [a,b]\n"
   ]
  },
  {
   "cell_type": "code",
   "execution_count": 5,
   "id": "b06e1d9f",
   "metadata": {},
   "outputs": [
    {
     "data": {
      "text/plain": [
       "12"
      ]
     },
     "execution_count": 5,
     "metadata": {},
     "output_type": "execute_result"
    }
   ],
   "source": [
    "124//10"
   ]
  },
  {
   "cell_type": "markdown",
   "id": "b3bfc6ff",
   "metadata": {},
   "source": [
    "## N numbers with sum 0"
   ]
  },
  {
   "cell_type": "code",
   "execution_count": 16,
   "id": "a87e7589",
   "metadata": {},
   "outputs": [
    {
     "data": {
      "text/plain": [
       "[1, 2, 3, 4, 5, -15]"
      ]
     },
     "execution_count": 16,
     "metadata": {},
     "output_type": "execute_result"
    }
   ],
   "source": [
    "n=6\n",
    "lst= list(range(n-1)) if n%2 else list(range(1,n)) \n",
    "sm= sum(lst)\n",
    "lst.append(-sm)\n",
    "lst"
   ]
  },
  {
   "cell_type": "code",
   "execution_count": 17,
   "id": "16a3527f",
   "metadata": {},
   "outputs": [
    {
     "data": {
      "text/plain": [
       "0"
      ]
     },
     "execution_count": 17,
     "metadata": {},
     "output_type": "execute_result"
    }
   ],
   "source": [
    "sum(lst)"
   ]
  },
  {
   "cell_type": "code",
   "execution_count": 8,
   "id": "fe769354",
   "metadata": {},
   "outputs": [],
   "source": [
    "x = [-52,-64,62,-24,14,55,46,25,22,-60,39,-14,38,16,1,-7,20,29,-58,34,-38,-34,-33,8,66,5,59,-47,-43,-3,6,-22,-51,53,54,-25,51,21,-15,-17,-4,65,-20,-19,56,41,-55,-2,47,9,-5,-29,-46,-16,-11,-44,12,-48,69,-39,37,-67,49,31,-69,27,-28,68,-18,-26,17,67,-8,-1,30,-41,24,28,19,58,-53,57,-63,10,-35,-10,-65,44,-27,-40,-31,-21,-13,63,-42,-12,35,11,-32,-50,13,4,-6,45,15,-54,43,2,-37,52,-66,48,50,23,61,26,33,-30,60,7,-59,-49,-9,40,-23,-45,64,42,-57,-36,-62,36,32,-61,-68,18,3,-56]"
   ]
  },
  {
   "cell_type": "code",
   "execution_count": 9,
   "id": "048af220",
   "metadata": {},
   "outputs": [
    {
     "data": {
      "text/plain": [
       "138"
      ]
     },
     "execution_count": 9,
     "metadata": {},
     "output_type": "execute_result"
    }
   ],
   "source": [
    "len(x)"
   ]
  },
  {
   "cell_type": "markdown",
   "id": "f518414f",
   "metadata": {},
   "source": [
    "## Target Indices"
   ]
  },
  {
   "cell_type": "code",
   "execution_count": 38,
   "id": "05d92033",
   "metadata": {},
   "outputs": [],
   "source": [
    "nums = [1,2,5,2,3]\n",
    "target = 1"
   ]
  },
  {
   "cell_type": "code",
   "execution_count": 39,
   "id": "c055a2bd",
   "metadata": {},
   "outputs": [],
   "source": [
    "count=0\n",
    "num_count=0\n",
    "for i in nums:\n",
    "    if i < target:\n",
    "        count+=1\n",
    "    if i==target:\n",
    "        num_count+=1\n",
    "lst = list(range(count,count+num_count))"
   ]
  },
  {
   "cell_type": "code",
   "execution_count": 40,
   "id": "a340d02c",
   "metadata": {},
   "outputs": [
    {
     "data": {
      "text/plain": [
       "[0]"
      ]
     },
     "execution_count": 40,
     "metadata": {},
     "output_type": "execute_result"
    }
   ],
   "source": [
    "lst"
   ]
  },
  {
   "cell_type": "markdown",
   "id": "36125ae5",
   "metadata": {},
   "source": [
    "## Rank Transform"
   ]
  },
  {
   "cell_type": "code",
   "execution_count": 45,
   "id": "8417775d",
   "metadata": {},
   "outputs": [
    {
     "data": {
      "text/plain": [
       "[10, 20, 30, 40]"
      ]
     },
     "execution_count": 45,
     "metadata": {},
     "output_type": "execute_result"
    }
   ],
   "source": [
    "arr = [40,10,20,30,40]\n",
    "s1= set(arr)\n",
    "s2= sorted(s1)\n",
    "for i in range(arr):\n",
    "    "
   ]
  },
  {
   "cell_type": "code",
   "execution_count": null,
   "id": "e4f0dad0",
   "metadata": {},
   "outputs": [],
   "source": []
  }
 ],
 "metadata": {
  "kernelspec": {
   "display_name": "Python 3 (ipykernel)",
   "language": "python",
   "name": "python3"
  },
  "language_info": {
   "codemirror_mode": {
    "name": "ipython",
    "version": 3
   },
   "file_extension": ".py",
   "mimetype": "text/x-python",
   "name": "python",
   "nbconvert_exporter": "python",
   "pygments_lexer": "ipython3",
   "version": "3.9.7"
  }
 },
 "nbformat": 4,
 "nbformat_minor": 5
}
